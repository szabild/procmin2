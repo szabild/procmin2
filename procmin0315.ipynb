{
  "cells": [
    {
      "cell_type": "code",
      "execution_count": null,
      "metadata": {
        "id": "zwFnJsE6vjf8"
      },
      "outputs": [],
      "source": []
    },
    {
      "cell_type": "markdown",
      "metadata": {
        "id": "5fCEDCU_qrC0"
      },
      "source": [
        "<div class=\"markdown-google-sans\">\n",
        "  <h2>Mi az a Colab?</h2>\n",
        "</div>\n",
        "\n",
        "A Colab, vagyis „Colaboratory” segítségével Python-kódot írhat és futtathat böngészőjében, a következő előnyökkel:\n",
        "- Nincs szükség konfigurációra\n",
        "- Díjmentes GPU-hozzáférés\n",
        "- Egyszerű megosztás\n",
        "\n",
        "Legyen Ön <strong>hallgató</strong>, <strong>adattudós</strong> vagy <strong>AI-kutató</strong>, a Colab megkönnyítheti a munkáját. Nézze meg a <a href=\"https://www.youtube.com/watch?v=inN8seMm7UI\">Colabot bemutató videót</a>, amelyben további információkat találhat, vagy csak vágjon bele alább!"
      ]
    },
    {
      "cell_type": "markdown",
      "source": [
        "# Resilient IT\n"
      ],
      "metadata": {
        "id": "a6zi2wIzgh5_"
      }
    },
    {
      "cell_type": "code",
      "source": [
        "pip install pm4py"
      ],
      "metadata": {
        "colab": {
          "base_uri": "https://localhost:8080/"
        },
        "id": "od5oPZjR_ps1",
        "outputId": "395840d2-7e7f-46a2-b98c-da8bc730b640"
      },
      "execution_count": 194,
      "outputs": [
        {
          "output_type": "stream",
          "name": "stdout",
          "text": [
            "Requirement already satisfied: pm4py in /usr/local/lib/python3.11/dist-packages (2.7.14)\n",
            "Requirement already satisfied: numpy in /usr/local/lib/python3.11/dist-packages (from pm4py) (1.26.4)\n",
            "Requirement already satisfied: pandas in /usr/local/lib/python3.11/dist-packages (from pm4py) (2.2.2)\n",
            "Requirement already satisfied: deprecation in /usr/local/lib/python3.11/dist-packages (from pm4py) (2.1.0)\n",
            "Requirement already satisfied: networkx in /usr/local/lib/python3.11/dist-packages (from pm4py) (3.4.2)\n",
            "Requirement already satisfied: graphviz in /usr/local/lib/python3.11/dist-packages (from pm4py) (0.20.3)\n",
            "Requirement already satisfied: wheel in /usr/local/lib/python3.11/dist-packages (from pm4py) (0.45.1)\n",
            "Requirement already satisfied: setuptools in /usr/local/lib/python3.11/dist-packages (from pm4py) (75.1.0)\n",
            "Requirement already satisfied: intervaltree in /usr/local/lib/python3.11/dist-packages (from pm4py) (3.1.0)\n",
            "Requirement already satisfied: lxml in /usr/local/lib/python3.11/dist-packages (from pm4py) (5.3.1)\n",
            "Requirement already satisfied: matplotlib in /usr/local/lib/python3.11/dist-packages (from pm4py) (3.10.0)\n",
            "Requirement already satisfied: pydotplus in /usr/local/lib/python3.11/dist-packages (from pm4py) (2.0.2)\n",
            "Requirement already satisfied: pytz in /usr/local/lib/python3.11/dist-packages (from pm4py) (2025.1)\n",
            "Requirement already satisfied: scipy in /usr/local/lib/python3.11/dist-packages (from pm4py) (1.14.1)\n",
            "Requirement already satisfied: tqdm in /usr/local/lib/python3.11/dist-packages (from pm4py) (4.67.1)\n",
            "Requirement already satisfied: cvxopt in /usr/local/lib/python3.11/dist-packages (from pm4py) (1.3.2)\n",
            "Requirement already satisfied: packaging in /usr/local/lib/python3.11/dist-packages (from deprecation->pm4py) (24.2)\n",
            "Requirement already satisfied: sortedcontainers<3.0,>=2.0 in /usr/local/lib/python3.11/dist-packages (from intervaltree->pm4py) (2.4.0)\n",
            "Requirement already satisfied: contourpy>=1.0.1 in /usr/local/lib/python3.11/dist-packages (from matplotlib->pm4py) (1.3.1)\n",
            "Requirement already satisfied: cycler>=0.10 in /usr/local/lib/python3.11/dist-packages (from matplotlib->pm4py) (0.12.1)\n",
            "Requirement already satisfied: fonttools>=4.22.0 in /usr/local/lib/python3.11/dist-packages (from matplotlib->pm4py) (4.56.0)\n",
            "Requirement already satisfied: kiwisolver>=1.3.1 in /usr/local/lib/python3.11/dist-packages (from matplotlib->pm4py) (1.4.8)\n",
            "Requirement already satisfied: pillow>=8 in /usr/local/lib/python3.11/dist-packages (from matplotlib->pm4py) (11.1.0)\n",
            "Requirement already satisfied: pyparsing>=2.3.1 in /usr/local/lib/python3.11/dist-packages (from matplotlib->pm4py) (3.2.1)\n",
            "Requirement already satisfied: python-dateutil>=2.7 in /usr/local/lib/python3.11/dist-packages (from matplotlib->pm4py) (2.8.2)\n",
            "Requirement already satisfied: tzdata>=2022.7 in /usr/local/lib/python3.11/dist-packages (from pandas->pm4py) (2025.1)\n",
            "Requirement already satisfied: six>=1.5 in /usr/local/lib/python3.11/dist-packages (from python-dateutil>=2.7->matplotlib->pm4py) (1.17.0)\n"
          ]
        }
      ]
    },
    {
      "cell_type": "code",
      "source": [
        "import pandas as pd\n",
        "import pm4py\n",
        "import matplotlib.pyplot as plt\n",
        "import numpy as np\n",
        "df = pd.read_csv('/content/exportgbiall01_05_all4.csv',sep=\";\",names = ['Timestamp','org:resource','case:concept:name', 'transaction', 'concept:name','dialog_steps',\n",
        "                                                                        'total response time (s)', 'av_resp_time_per_dialog_steps_in_ms', 'total CPU time(s)', 'average CPU time(ms)', 'total database time(s)'],usecols = [1,2,3,4,5,6,7,8,9,10,11])\n",
        "#print(df)\n",
        "logcost = pm4py.format_dataframe(df, case_id = 'case:concept:name', activity_key= 'concept:name', timestamp_key= 'Timestamp')\n",
        "logcost['time:timestamp'] = pd.to_datetime(df.Timestamp)\n",
        "print(type(df['average CPU time(ms)'][0]))\n",
        "df['average CPU time(ms)'] = df['average CPU time(ms)'].str.replace(',', '.')\n",
        "df['av_resp_time_per_dialog_steps_in_ms'] = df['av_resp_time_per_dialog_steps_in_ms'].str.replace(',', '.')\n",
        "df['average CPU time(ms)'] = pd.to_numeric(df['average CPU time(ms)'])\n",
        "df['av_resp_time_per_dialog_steps_in_ms'] = pd.to_numeric(df['av_resp_time_per_dialog_steps_in_ms'])\n",
        "print(df)"
      ],
      "metadata": {
        "colab": {
          "base_uri": "https://localhost:8080/"
        },
        "id": "FLF_DTSxoniG",
        "outputId": "78da36e0-c25d-4b9c-b9c5-c5277a0d836c"
      },
      "execution_count": 219,
      "outputs": [
        {
          "output_type": "stream",
          "name": "stdout",
          "text": [
            "<class 'str'>\n",
            "            Timestamp org:resource  case:concept:name transaction  \\\n",
            "0    2025.03.11 10:28   GBIALL-001                  1        FK01   \n",
            "1    2025.03.11 10:38   GBIALL-001                  1        FK02   \n",
            "2    2025.03.11 10:43   GBIALL-001                  1        FB60   \n",
            "3    2025.03.11 10:49   GBIALL-001                  1       FK10N   \n",
            "4    2025.03.11 10:51   GBIALL-001                  1       FBL1N   \n",
            "..                ...          ...                ...         ...   \n",
            "178  2025.03.11 11:08   GBIALL-027                 27        FK01   \n",
            "179  2025.03.11 11:09   GBIALL-027                 27        FK02   \n",
            "180  2025.03.11 11:10   GBIALL-027                 27        FB60   \n",
            "181  2025.03.11 11:12   GBIALL-027                 27       FK10N   \n",
            "182  2025.03.11 11:13   GBIALL-027                 27        F-53   \n",
            "\n",
            "                   concept:name dialog_steps total response time (s)  \\\n",
            "0    Create Vendor (Accounting)        25,00                    5,00   \n",
            "1    Change Vendor (Accounting)        65,00                    7,00   \n",
            "2       Enter Incoming Invoices       185,00                   15,00   \n",
            "3        Vendor Balance Display        10,00                    1,00   \n",
            "4             Vendor Line Items        32,00                    3,00   \n",
            "..                          ...          ...                     ...   \n",
            "178  Create Vendor (Accounting)        90,00                   14,00   \n",
            "179  Change Vendor (Accounting)        65,00                    4,00   \n",
            "180     Enter Incoming Invoices       141,00                   15,00   \n",
            "181      Vendor Balance Display         9,00                    1,00   \n",
            "182      Post Outgoing Payments        89,00                    1,00   \n",
            "\n",
            "     av_resp_time_per_dialog_steps_in_ms total CPU time(s)  \\\n",
            "0                                  218.9              3,00   \n",
            "1                                  108.5              3,00   \n",
            "2                                   81.1              3,00   \n",
            "3                                   67.6              0,00   \n",
            "4                                   91.4              1,00   \n",
            "..                                   ...               ...   \n",
            "178                                153.0              5,00   \n",
            "179                                 69.2              1,00   \n",
            "180                                108.6              2,00   \n",
            "181                                133.0              0,00   \n",
            "182                                 11.2              0,00   \n",
            "\n",
            "     average CPU time(ms) total database time(s)    time:timestamp  \n",
            "0                   100.0                   2,00  2025.03.11 10:28  \n",
            "1                    47.7                   4,00  2025.03.11 10:38  \n",
            "2                    15.9                   8,00  2025.03.11 10:43  \n",
            "3                    27.0                   0,00  2025.03.11 10:49  \n",
            "4                    24.1                   2,00  2025.03.11 10:51  \n",
            "..                    ...                    ...               ...  \n",
            "178                  52.7                   5,00  2025.03.11 11:08  \n",
            "179                  18.5                   3,00  2025.03.11 11:09  \n",
            "180                  15.4                  10,00  2025.03.11 11:10  \n",
            "181                  24.4                   1,00  2025.03.11 11:12  \n",
            "182                   4.3                   1,00  2025.03.11 11:13  \n",
            "\n",
            "[183 rows x 12 columns]\n"
          ]
        }
      ]
    },
    {
      "cell_type": "code",
      "source": [
        "import matplotlib.pylab as pylab\n",
        "params = {'legend.fontsize': 'x-large',\n",
        "          'figure.figsize': (15, 5),\n",
        "         'axes.labelsize': 'x-large',\n",
        "         'axes.titlesize':'medium',\n",
        "         'xtick.labelsize':'x-large',\n",
        "         'ytick.labelsize':'x-large'}\n",
        "pylab.rcParams.update(params)"
      ],
      "metadata": {
        "id": "g-QduB8UKWMc"
      },
      "execution_count": null,
      "outputs": []
    },
    {
      "cell_type": "code",
      "source": [
        "df0 = [x for _, x in df.groupby(df['transaction'])]\n",
        "#print(df0[1])\n",
        "figure, axis = plt.subplots(3, 6)\n",
        "for x in range(0, len(df0)):\n",
        "  if x < 6:\n",
        "    axis[0, x].set_title(df0[x]['transaction'].values[1])\n",
        "    axis[0, x].boxplot(df0[x]['average CPU time(ms)'])\n",
        "  else:\n",
        "    if x < 12:\n",
        "      axis[1, x - 6].set_title(df0[x]['transaction'].values[1])\n",
        "      axis[1, x - 6].boxplot(df0[x]['average CPU time(ms)'])\n",
        "    else:\n",
        "      axis[2, x - 12].set_title(df0[x]['transaction'].values[1])\n",
        "      axis[2, x - 12].boxplot(df0[x]['average CPU time(ms)'])\n",
        "plt.show()\n",
        "\n"
      ],
      "metadata": {
        "colab": {
          "base_uri": "https://localhost:8080/",
          "height": 470
        },
        "id": "m8P2ZieP5W7D",
        "outputId": "25bf7a9c-7652-4f11-9b46-3ea3ad8d8c53"
      },
      "execution_count": 220,
      "outputs": [
        {
          "output_type": "display_data",
          "data": {
            "text/plain": [
              "<Figure size 1500x500 with 18 Axes>"
            ],
            "image/png": "[encoded data removed]"
          },
          "metadata": {}
        }
      ]
    },
    {
      "cell_type": "code",
      "source": [
        "df0 = [x for _, x in df.groupby(df[''])]\n",
        "#print(df0[1])\n",
        "for x in range(0, len(df0)):\n",
        "  plt.title(df0[x]['concept:name'])\n",
        "  plt.boxplot(df0[x]['dialog_steps'])\n",
        "  plt.show()"
      ],
      "metadata": {
        "id": "F7t6hhnbEFDY"
      },
      "execution_count": null,
      "outputs": []
    },
    {
      "cell_type": "markdown",
      "source": [
        "filtered_dataframe = pm4py.filter_trace_attribute_values(\n",
        "    log,\n",
        "    'User',\n",
        "    ['GBIALL-001'],\n",
        "    case_id_key='case:concept:name'\n",
        ")\n",
        "filtered_dataframe"
      ],
      "metadata": {
        "id": "XwKIQ8oyK6gw"
      }
    },
    {
      "cell_type": "code",
      "source": [
        "\n",
        "for variant, subdf in pm4py.split_by_process_variant(logcost):\n",
        "    print(variant)  # The definition of that particular variant\n",
        "    #print(subdf)   ## the sub-dataframe (only that particular variant)\n",
        "    subdf.to_csv('out.csv')\n",
        "    print(f\"There are {len(subdf)} of the the variant \\t {variant}\")\n"
      ],
      "metadata": {
        "id": "dmDXjwBKU6bz"
      },
      "execution_count": null,
      "outputs": []
    },
    {
      "cell_type": "code",
      "source": [
        "net, initial_marking, final_marking = pm4py.discover_petri_net_inductive(logcost, activity_key='concept:name', case_id_key='case:concept:name', timestamp_key='time:timestamp')\n",
        "pm4py.view_petri_net(net, initial_marking, final_marking)"
      ],
      "metadata": {
        "id": "OTm8XILKYl5l"
      },
      "execution_count": null,
      "outputs": []
    },
    {
      "cell_type": "code",
      "source": [
        "dfg, start_activities, end_activities = pm4py.discover_dfg(log, activity_key='concept:name', case_id_key='case:concept:name', timestamp_key='time:timestamp')\n",
        "pm4py.view_dfg(dfg, start_activities, end_activities)"
      ],
      "metadata": {
        "id": "ZDf64uUAZpgA"
      },
      "execution_count": null,
      "outputs": []
    },
    {
      "cell_type": "code",
      "source": [
        "transition_system = pm4py.discover_transition_system(log, activity_key='concept:name', case_id_key='case:concept:name', timestamp_key='time:timestamp')\n",
        "pm4py.view_transition_system(transition_system)\n",
        "\n"
      ],
      "metadata": {
        "id": "4I1ic1cDah_u"
      },
      "execution_count": null,
      "outputs": []
    },
    {
      "cell_type": "code",
      "source": [],
      "metadata": {
        "id": "UmcBlXAjVnyo"
      },
      "execution_count": null,
      "outputs": []
    },
    {
      "cell_type": "code",
      "source": [
        "print(pm4py.stats.get_case_duration(logcost, case_id = '8'))"
      ],
      "metadata": {
        "id": "t2JCTNoMT_eW"
      },
      "execution_count": null,
      "outputs": []
    },
    {
      "cell_type": "code",
      "source": [
        "from matplotlib import pyplot as plt\n",
        "case_duration = pm4py.get_all_case_durations(logcost)\n",
        "print(case_duration)\n",
        "attr = pm4py.get_event_attribute_values(logcost, 'org:resource')\n",
        "attr2 = pm4py.get_event_attribute_values(logcost, 'dialog_steps')\n",
        "attr3 = pm4py.get_event_attribute_values(logcost, 'transaction')\n",
        "\n",
        "print(attr)\n",
        "print(attr2)\n",
        "x= attr.keys()\n",
        "y = attr.values()\n",
        "x2 = attr2.keys()\n",
        "y2 = attr2.values()\n",
        "x3 = attr3.keys()\n",
        "y3 = attr3.values()\n",
        "plt.figure(figsize=(30, 5))\n",
        "plt.bar(x, y, color = 'red')\n",
        "plt.show()\n",
        "plt.bar(x2, y2, color = 'green')\n",
        "plt.show()\n",
        "plt.bar(x3, y3, color = 'purple')\n",
        "plt.show()"
      ],
      "metadata": {
        "id": "Zn-0MIpRAaxg"
      },
      "execution_count": null,
      "outputs": []
    },
    {
      "cell_type": "markdown",
      "source": [],
      "metadata": {
        "id": "oAU7HjxhDH_H"
      }
    },
    {
      "cell_type": "code",
      "source": [
        "pm4py.get_start_activities(logcost)"
      ],
      "metadata": {
        "id": "nLHs8hwPAr3R"
      },
      "execution_count": null,
      "outputs": []
    },
    {
      "cell_type": "code",
      "source": [
        "pm4py.get_end_activities(logcost)"
      ],
      "metadata": {
        "id": "rRAs0nqTDYvb"
      },
      "execution_count": null,
      "outputs": []
    },
    {
      "cell_type": "code",
      "source": [
        "filt_log2 = pm4py.filter_start_activities(logcost, {'Create Vendor (Accounting)'})\n",
        "net, initial_marking, final_marking = pm4py.discover_petri_net_inductive(filt_log2, activity_key='concept:name', case_id_key='case:concept:name', timestamp_key='time:timestamp')\n",
        "pm4py.view_petri_net(net, initial_marking, final_marking)\n",
        "\n",
        "bpmn_model = pm4py.discover_bpmn_inductive(filt_log2)\n",
        "pm4py.view_bpmn(bpmn_model)\n",
        "\n",
        "map = pm4py.discover_heuristics_net(filt_log2)\n",
        "pm4py.view_heuristics_net(map)"
      ],
      "metadata": {
        "id": "MeFwQni7GXxF"
      },
      "execution_count": null,
      "outputs": []
    },
    {
      "cell_type": "code",
      "source": [
        "filtered_log = pm4py.filter_trace_attribute_values(\n",
        "    logcost,\n",
        "    'User',\n",
        "    ['GBIALL-016'],\n",
        "    case_id_key='case:concept:name'\n",
        ")\n",
        "map = pm4py.discover_heuristics_net(filtered_log)\n",
        "pm4py.view_heuristics_net(map)\n"
      ],
      "metadata": {
        "id": "L1U6na21G1bX"
      },
      "execution_count": null,
      "outputs": []
    },
    {
      "cell_type": "code",
      "source": [
        "process_tree = pm4py.discover_process_tree_inductive(logcost)\n",
        "pm4py.view_process_tree(process_tree)"
      ],
      "metadata": {
        "id": "1EGmN38EHbdA"
      },
      "execution_count": null,
      "outputs": []
    },
    {
      "cell_type": "markdown",
      "source": [
        "# Feldolgozás"
      ],
      "metadata": {
        "id": "iQQVwgy1gzy1"
      }
    },
    {
      "cell_type": "code",
      "source": [
        "from pm4py.algo.discovery.dfg import algorithm as dfg_discovery\n",
        "dfgcost = dfg_discovery.apply(logcost)\n",
        "from pm4py.visualization.dfg import visualizer as dfg_visualization\n",
        "gviz = dfg_visualization.apply(dfgcost, log=logcost, variant=dfg_visualization.Variants.FREQUENCY)\n",
        "dfg_visualization.view(gviz)\n"
      ],
      "metadata": {
        "id": "DF4DMumKnmxz"
      },
      "execution_count": null,
      "outputs": []
    },
    {
      "cell_type": "code",
      "source": [
        "\n",
        "\n",
        "dfg = pm4py.discover_dfg(logcost)\n",
        "print(len(dfg))\n",
        "for df2 in dfg:\n",
        "  print(df2)\n",
        "  print('\\n')"
      ],
      "metadata": {
        "id": "xto54YOKJY-1"
      },
      "execution_count": null,
      "outputs": []
    },
    {
      "cell_type": "code",
      "source": [
        "for i in range(0, len(logcost)-1):\n",
        "  print(logcost['concept:name'][i] + \"      \" + logcost['concept:name'][i+1])"
      ],
      "metadata": {
        "id": "G1tDxoFnfN2B"
      },
      "execution_count": null,
      "outputs": []
    },
    {
      "cell_type": "code",
      "source": [
        "logcost"
      ],
      "metadata": {
        "id": "2Z0fp85dqRKl"
      },
      "execution_count": null,
      "outputs": []
    },
    {
      "cell_type": "code",
      "source": [
        "from pm4py.algo.discovery.dfg import algorithm as dfg_discovery\n",
        "from pm4py.visualization.dfg import visualizer as dfg_visualization\n",
        "\n",
        "dfg = dfg_discovery.apply(logcost, variant=dfg_discovery.Variants.FREQUENCY)\n",
        "gviz = dfg_visualization.apply(dfg, log=logcost,  variant=dfg_visualization.Variants.FREQUENCY)\n",
        "dfg_visualization.view(gviz)\n",
        "print(dfg[('Change Document', 'Reverse Document')])\n",
        "dfg[('Change Document', 'Reverse Document')] =6\n",
        "gviz = dfg_visualization.apply(dfg, log=logcost,  variant=dfg_visualization.Variants.FREQUENCY)\n",
        "dfg_visualization.view(gviz)"
      ],
      "metadata": {
        "id": "SgDyLXlOn2SP"
      },
      "execution_count": null,
      "outputs": []
    },
    {
      "cell_type": "code",
      "source": [],
      "metadata": {
        "id": "Bs5zo-SpoBMq"
      },
      "execution_count": null,
      "outputs": []
    }
  ],
  "metadata": {
    "colab": {
      "name": "Üdvözli a Colaboratory",
      "provenance": [],
      "gpuType": "T4"
    },
    "kernelspec": {
      "display_name": "Python 3",
      "name": "python3"
    },
    "accelerator": "GPU"
  },
  "nbformat": 4,
  "nbformat_minor": 0
}